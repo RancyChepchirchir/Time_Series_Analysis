{
 "cells": [
  {
   "cell_type": "markdown",
   "metadata": {},
   "source": [
    "## Importing the relevant packages"
   ]
  },
  {
   "cell_type": "code",
   "execution_count": 1,
   "metadata": {},
   "outputs": [],
   "source": [
    "import pandas as pd\n",
    "import numpy as np\n",
    "import matplotlib.pyplot as plt\n",
    "import statsmodels.graphics.tsaplots as sgt\n",
    "import statsmodels.tsa.stattools as sts\n",
    "from statsmodels.tsa.arima_model import ARIMA\n",
    "from scipy.stats.distributions import chi2 \n",
    "from arch import arch_model\n",
    "from math import sqrt\n",
    "import seaborn as sns\n",
    "sns.set()"
   ]
  },
  {
   "cell_type": "markdown",
   "metadata": {},
   "source": [
    " "
   ]
  },
  {
   "cell_type": "markdown",
   "metadata": {},
   "source": [
    "## Importing the Data and Pre-processing "
   ]
  },
  {
   "cell_type": "code",
   "execution_count": 2,
   "metadata": {},
   "outputs": [],
   "source": [
    "raw_csv_data = pd.read_csv(\"Index2018.csv\") \n",
    "df_comp=raw_csv_data.copy()\n",
    "df_comp.date = pd.to_datetime(df_comp.date, dayfirst = True)\n",
    "df_comp.set_index(\"date\", inplace=True)\n",
    "df_comp=df_comp.asfreq('b')\n",
    "df_comp=df_comp.fillna(method='ffill')"
   ]
  },
  {
   "cell_type": "code",
   "execution_count": 3,
   "metadata": {},
   "outputs": [],
   "source": [
    "df_comp['market_value']=df_comp.ftse"
   ]
  },
  {
   "cell_type": "code",
   "execution_count": 4,
   "metadata": {},
   "outputs": [],
   "source": [
    "del df_comp['spx']\n",
    "del df_comp['dax']\n",
    "del df_comp['ftse']\n",
    "del df_comp['nikkei']\n",
    "size = int(len(df_comp)*0.8)\n",
    "df, df_test = df_comp.iloc[:size], df_comp.iloc[size:]"
   ]
  },
  {
   "cell_type": "code",
   "execution_count": 5,
   "metadata": {},
   "outputs": [],
   "source": [
    "import warnings\n",
    "warnings.filterwarnings(\"ignore\")"
   ]
  },
  {
   "cell_type": "markdown",
   "metadata": {},
   "source": [
    " "
   ]
  },
  {
   "cell_type": "markdown",
   "metadata": {},
   "source": [
    "## The LLR Test"
   ]
  },
  {
   "cell_type": "code",
   "execution_count": 6,
   "metadata": {},
   "outputs": [],
   "source": [
    "def LLR_test(mod_1, mod_2, DF = 1):\n",
    "    L1 = mod_1.fit(start_ar_lags = 11).llf\n",
    "    L2 = mod_2.fit(start_ar_lags = 11).llf\n",
    "    LR = (2*(L2-L1))    \n",
    "    p = chi2.sf(LR, DF).round(3)\n",
    "    return p"
   ]
  },
  {
   "cell_type": "markdown",
   "metadata": {},
   "source": [
    "## Creating Returns"
   ]
  },
  {
   "cell_type": "code",
   "execution_count": 7,
   "metadata": {
    "scrolled": true
   },
   "outputs": [],
   "source": [
    "df['returns'] = df.market_value.pct_change(1)*100"
   ]
  },
  {
   "cell_type": "markdown",
   "metadata": {},
   "source": [
    "## The Simple GARCH Model"
   ]
  },
  {
   "cell_type": "code",
   "execution_count": 8,
   "metadata": {},
   "outputs": [
    {
     "name": "stdout",
     "output_type": "stream",
     "text": [
      "Iteration:      5,   Func. Count:     35,   Neg. LLF: 7010.712866814991\n",
      "Iteration:     10,   Func. Count:     64,   Neg. LLF: 6970.058478417896\n",
      "Optimization terminated successfully    (Exit mode 0)\n",
      "            Current function value: 6970.058366189888\n",
      "            Iterations: 13\n",
      "            Function evaluations: 78\n",
      "            Gradient evaluations: 13\n"
     ]
    },
    {
     "data": {
      "text/html": [
       "<table class=\"simpletable\">\n",
       "<caption>Constant Mean - GARCH Model Results</caption>\n",
       "<tr>\n",
       "  <th>Dep. Variable:</th>       <td>returns</td>      <th>  R-squared:         </th>  <td>   0.000</td> \n",
       "</tr>\n",
       "<tr>\n",
       "  <th>Mean Model:</th>       <td>Constant Mean</td>   <th>  Adj. R-squared:    </th>  <td>   0.000</td> \n",
       "</tr>\n",
       "<tr>\n",
       "  <th>Vol Model:</th>            <td>GARCH</td>       <th>  Log-Likelihood:    </th> <td>  -6970.06</td>\n",
       "</tr>\n",
       "<tr>\n",
       "  <th>Distribution:</th>        <td>Normal</td>       <th>  AIC:               </th> <td>   13948.1</td>\n",
       "</tr>\n",
       "<tr>\n",
       "  <th>Method:</th>        <td>Maximum Likelihood</td> <th>  BIC:               </th> <td>   13974.2</td>\n",
       "</tr>\n",
       "<tr>\n",
       "  <th></th>                        <td></td>          <th>  No. Observations:  </th>    <td>5020</td>   \n",
       "</tr>\n",
       "<tr>\n",
       "  <th>Date:</th>           <td>Mon, Nov 22 2021</td>  <th>  Df Residuals:      </th>    <td>5019</td>   \n",
       "</tr>\n",
       "<tr>\n",
       "  <th>Time:</th>               <td>23:06:07</td>      <th>  Df Model:          </th>      <td>1</td>    \n",
       "</tr>\n",
       "</table>\n",
       "<table class=\"simpletable\">\n",
       "<caption>Mean Model</caption>\n",
       "<tr>\n",
       "   <td></td>     <th>coef</th>     <th>std err</th>      <th>t</th>       <th>P>|t|</th>     <th>95.0% Conf. Int.</th>   \n",
       "</tr>\n",
       "<tr>\n",
       "  <th>mu</th> <td>    0.0466</td> <td>1.183e-02</td> <td>    3.939</td> <td>8.187e-05</td> <td>[2.342e-02,6.981e-02]</td>\n",
       "</tr>\n",
       "</table>\n",
       "<table class=\"simpletable\">\n",
       "<caption>Volatility Model</caption>\n",
       "<tr>\n",
       "      <td></td>        <th>coef</th>     <th>std err</th>      <th>t</th>       <th>P>|t|</th>     <th>95.0% Conf. Int.</th>   \n",
       "</tr>\n",
       "<tr>\n",
       "  <th>omega</th>    <td>    0.0109</td> <td>3.004e-03</td> <td>    3.640</td> <td>2.724e-04</td> <td>[5.048e-03,1.682e-02]</td>\n",
       "</tr>\n",
       "<tr>\n",
       "  <th>alpha[1]</th> <td>    0.0835</td> <td>1.071e-02</td> <td>    7.794</td> <td>6.476e-15</td>  <td>[6.249e-02,  0.104]</td> \n",
       "</tr>\n",
       "<tr>\n",
       "  <th>beta[1]</th>  <td>    0.9089</td> <td>1.148e-02</td> <td>   79.168</td>   <td>0.000</td>     <td>[  0.886,  0.931]</td>  \n",
       "</tr>\n",
       "</table><br/><br/>Covariance estimator: robust"
      ],
      "text/plain": [
       "<class 'statsmodels.iolib.summary.Summary'>\n",
       "\"\"\"\n",
       "                     Constant Mean - GARCH Model Results                      \n",
       "==============================================================================\n",
       "Dep. Variable:                returns   R-squared:                       0.000\n",
       "Mean Model:             Constant Mean   Adj. R-squared:                  0.000\n",
       "Vol Model:                      GARCH   Log-Likelihood:               -6970.06\n",
       "Distribution:                  Normal   AIC:                           13948.1\n",
       "Method:            Maximum Likelihood   BIC:                           13974.2\n",
       "                                        No. Observations:                 5020\n",
       "Date:                Mon, Nov 22 2021   Df Residuals:                     5019\n",
       "Time:                        23:06:07   Df Model:                            1\n",
       "                                 Mean Model                                 \n",
       "============================================================================\n",
       "                 coef    std err          t      P>|t|      95.0% Conf. Int.\n",
       "----------------------------------------------------------------------------\n",
       "mu             0.0466  1.183e-02      3.939  8.187e-05 [2.342e-02,6.981e-02]\n",
       "                              Volatility Model                              \n",
       "============================================================================\n",
       "                 coef    std err          t      P>|t|      95.0% Conf. Int.\n",
       "----------------------------------------------------------------------------\n",
       "omega          0.0109  3.004e-03      3.640  2.724e-04 [5.048e-03,1.682e-02]\n",
       "alpha[1]       0.0835  1.071e-02      7.794  6.476e-15   [6.249e-02,  0.104]\n",
       "beta[1]        0.9089  1.148e-02     79.168      0.000     [  0.886,  0.931]\n",
       "============================================================================\n",
       "\n",
       "Covariance estimator: robust\n",
       "\"\"\""
      ]
     },
     "execution_count": 8,
     "metadata": {},
     "output_type": "execute_result"
    }
   ],
   "source": [
    "model_garch_1_1 = arch_model(df.returns[1:], mean = \"Constant\", vol = \"GARCH\", p = 1, q = 1)\n",
    "results_garch_1_1 = model_garch_1_1.fit(update_freq = 5)\n",
    "results_garch_1_1.summary()"
   ]
  },
  {
   "cell_type": "markdown",
   "metadata": {},
   "source": [
    "## Higher-Lag GARCH Models"
   ]
  },
  {
   "cell_type": "code",
   "execution_count": 9,
   "metadata": {},
   "outputs": [
    {
     "name": "stdout",
     "output_type": "stream",
     "text": [
      "Iteration:      5,   Func. Count:     40,   Neg. LLF: 6974.173831538361\n",
      "Iteration:     10,   Func. Count:     71,   Neg. LLF: 6970.058391826686\n",
      "Optimization terminated successfully    (Exit mode 0)\n",
      "            Current function value: 6970.05836622724\n",
      "            Iterations: 12\n",
      "            Function evaluations: 83\n",
      "            Gradient evaluations: 12\n"
     ]
    },
    {
     "data": {
      "text/html": [
       "<table class=\"simpletable\">\n",
       "<caption>Constant Mean - GARCH Model Results</caption>\n",
       "<tr>\n",
       "  <th>Dep. Variable:</th>       <td>returns</td>      <th>  R-squared:         </th>  <td>   0.000</td> \n",
       "</tr>\n",
       "<tr>\n",
       "  <th>Mean Model:</th>       <td>Constant Mean</td>   <th>  Adj. R-squared:    </th>  <td>   0.000</td> \n",
       "</tr>\n",
       "<tr>\n",
       "  <th>Vol Model:</th>            <td>GARCH</td>       <th>  Log-Likelihood:    </th> <td>  -6970.06</td>\n",
       "</tr>\n",
       "<tr>\n",
       "  <th>Distribution:</th>        <td>Normal</td>       <th>  AIC:               </th> <td>   13950.1</td>\n",
       "</tr>\n",
       "<tr>\n",
       "  <th>Method:</th>        <td>Maximum Likelihood</td> <th>  BIC:               </th> <td>   13982.7</td>\n",
       "</tr>\n",
       "<tr>\n",
       "  <th></th>                        <td></td>          <th>  No. Observations:  </th>    <td>5020</td>   \n",
       "</tr>\n",
       "<tr>\n",
       "  <th>Date:</th>           <td>Mon, Nov 22 2021</td>  <th>  Df Residuals:      </th>    <td>5019</td>   \n",
       "</tr>\n",
       "<tr>\n",
       "  <th>Time:</th>               <td>23:06:09</td>      <th>  Df Model:          </th>      <td>1</td>    \n",
       "</tr>\n",
       "</table>\n",
       "<table class=\"simpletable\">\n",
       "<caption>Mean Model</caption>\n",
       "<tr>\n",
       "   <td></td>     <th>coef</th>     <th>std err</th>      <th>t</th>       <th>P>|t|</th>     <th>95.0% Conf. Int.</th>   \n",
       "</tr>\n",
       "<tr>\n",
       "  <th>mu</th> <td>    0.0466</td> <td>1.184e-02</td> <td>    3.938</td> <td>8.219e-05</td> <td>[2.341e-02,6.982e-02]</td>\n",
       "</tr>\n",
       "</table>\n",
       "<table class=\"simpletable\">\n",
       "<caption>Volatility Model</caption>\n",
       "<tr>\n",
       "      <td></td>        <th>coef</th>     <th>std err</th>      <th>t</th>       <th>P>|t|</th>     <th>95.0% Conf. Int.</th>   \n",
       "</tr>\n",
       "<tr>\n",
       "  <th>omega</th>    <td>    0.0109</td> <td>2.908e-03</td> <td>    3.761</td> <td>1.696e-04</td> <td>[5.236e-03,1.663e-02]</td>\n",
       "</tr>\n",
       "<tr>\n",
       "  <th>alpha[1]</th> <td>    0.0835</td> <td>1.189e-02</td> <td>    7.019</td> <td>2.231e-12</td>  <td>[6.017e-02,  0.107]</td> \n",
       "</tr>\n",
       "<tr>\n",
       "  <th>beta[1]</th>  <td>    0.9089</td> <td>    0.188</td> <td>    4.845</td> <td>1.268e-06</td>   <td>[  0.541,  1.277]</td>  \n",
       "</tr>\n",
       "<tr>\n",
       "  <th>beta[2]</th>    <td>0.0000</td>   <td>    0.180</td>   <td>0.000</td>   <td>    1.000</td>   <td>[ -0.352,  0.352]</td>  \n",
       "</tr>\n",
       "</table><br/><br/>Covariance estimator: robust"
      ],
      "text/plain": [
       "<class 'statsmodels.iolib.summary.Summary'>\n",
       "\"\"\"\n",
       "                     Constant Mean - GARCH Model Results                      \n",
       "==============================================================================\n",
       "Dep. Variable:                returns   R-squared:                       0.000\n",
       "Mean Model:             Constant Mean   Adj. R-squared:                  0.000\n",
       "Vol Model:                      GARCH   Log-Likelihood:               -6970.06\n",
       "Distribution:                  Normal   AIC:                           13950.1\n",
       "Method:            Maximum Likelihood   BIC:                           13982.7\n",
       "                                        No. Observations:                 5020\n",
       "Date:                Mon, Nov 22 2021   Df Residuals:                     5019\n",
       "Time:                        23:06:09   Df Model:                            1\n",
       "                                 Mean Model                                 \n",
       "============================================================================\n",
       "                 coef    std err          t      P>|t|      95.0% Conf. Int.\n",
       "----------------------------------------------------------------------------\n",
       "mu             0.0466  1.184e-02      3.938  8.219e-05 [2.341e-02,6.982e-02]\n",
       "                              Volatility Model                              \n",
       "============================================================================\n",
       "                 coef    std err          t      P>|t|      95.0% Conf. Int.\n",
       "----------------------------------------------------------------------------\n",
       "omega          0.0109  2.908e-03      3.761  1.696e-04 [5.236e-03,1.663e-02]\n",
       "alpha[1]       0.0835  1.189e-02      7.019  2.231e-12   [6.017e-02,  0.107]\n",
       "beta[1]        0.9089      0.188      4.845  1.268e-06     [  0.541,  1.277]\n",
       "beta[2]        0.0000      0.180      0.000      1.000     [ -0.352,  0.352]\n",
       "============================================================================\n",
       "\n",
       "Covariance estimator: robust\n",
       "\"\"\""
      ]
     },
     "execution_count": 9,
     "metadata": {},
     "output_type": "execute_result"
    }
   ],
   "source": [
    "model_garch_1_2 = arch_model(df.returns[1:], mean = \"Constant\",  vol = \"GARCH\", p = 1, q = 2)\n",
    "results_garch_1_2 = model_garch_1_2.fit(update_freq = 5)\n",
    "results_garch_1_2.summary()"
   ]
  },
  {
   "cell_type": "code",
   "execution_count": 10,
   "metadata": {},
   "outputs": [
    {
     "name": "stdout",
     "output_type": "stream",
     "text": [
      "Iteration:      5,   Func. Count:     47,   Neg. LLF: 7044.915118311412\n",
      "Iteration:     10,   Func. Count:     88,   Neg. LLF: 6973.18032347493\n",
      "Iteration:     15,   Func. Count:    124,   Neg. LLF: 6970.058367389029\n",
      "Optimization terminated successfully    (Exit mode 0)\n",
      "            Current function value: 6970.05836623001\n",
      "            Iterations: 17\n",
      "            Function evaluations: 137\n",
      "            Gradient evaluations: 17\n"
     ]
    },
    {
     "data": {
      "text/html": [
       "<table class=\"simpletable\">\n",
       "<caption>Constant Mean - GARCH Model Results</caption>\n",
       "<tr>\n",
       "  <th>Dep. Variable:</th>       <td>returns</td>      <th>  R-squared:         </th>  <td>   0.000</td> \n",
       "</tr>\n",
       "<tr>\n",
       "  <th>Mean Model:</th>       <td>Constant Mean</td>   <th>  Adj. R-squared:    </th>  <td>   0.000</td> \n",
       "</tr>\n",
       "<tr>\n",
       "  <th>Vol Model:</th>            <td>GARCH</td>       <th>  Log-Likelihood:    </th> <td>  -6970.06</td>\n",
       "</tr>\n",
       "<tr>\n",
       "  <th>Distribution:</th>        <td>Normal</td>       <th>  AIC:               </th> <td>   13952.1</td>\n",
       "</tr>\n",
       "<tr>\n",
       "  <th>Method:</th>        <td>Maximum Likelihood</td> <th>  BIC:               </th> <td>   13991.2</td>\n",
       "</tr>\n",
       "<tr>\n",
       "  <th></th>                        <td></td>          <th>  No. Observations:  </th>    <td>5020</td>   \n",
       "</tr>\n",
       "<tr>\n",
       "  <th>Date:</th>           <td>Mon, Nov 22 2021</td>  <th>  Df Residuals:      </th>    <td>5019</td>   \n",
       "</tr>\n",
       "<tr>\n",
       "  <th>Time:</th>               <td>23:06:10</td>      <th>  Df Model:          </th>      <td>1</td>    \n",
       "</tr>\n",
       "</table>\n",
       "<table class=\"simpletable\">\n",
       "<caption>Mean Model</caption>\n",
       "<tr>\n",
       "   <td></td>     <th>coef</th>     <th>std err</th>      <th>t</th>       <th>P>|t|</th>     <th>95.0% Conf. Int.</th>   \n",
       "</tr>\n",
       "<tr>\n",
       "  <th>mu</th> <td>    0.0466</td> <td>1.179e-02</td> <td>    3.954</td> <td>7.684e-05</td> <td>[2.351e-02,6.972e-02]</td>\n",
       "</tr>\n",
       "</table>\n",
       "<table class=\"simpletable\">\n",
       "<caption>Volatility Model</caption>\n",
       "<tr>\n",
       "      <td></td>        <th>coef</th>     <th>std err</th>      <th>t</th>       <th>P>|t|</th>      <th>95.0% Conf. Int.</th>   \n",
       "</tr>\n",
       "<tr>\n",
       "  <th>omega</th>    <td>    0.0109</td> <td>8.158e-03</td> <td>    1.340</td> <td>    0.180</td> <td>[-5.055e-03,2.693e-02]</td>\n",
       "</tr>\n",
       "<tr>\n",
       "  <th>alpha[1]</th> <td>    0.0835</td> <td>6.061e-02</td> <td>    1.377</td> <td>    0.168</td>  <td>[-3.530e-02,  0.202]</td> \n",
       "</tr>\n",
       "<tr>\n",
       "  <th>beta[1]</th>  <td>    0.9089</td> <td>    2.148</td> <td>    0.423</td> <td>    0.672</td>    <td>[ -3.302,  5.120]</td>  \n",
       "</tr>\n",
       "<tr>\n",
       "  <th>beta[2]</th>    <td>0.0000</td>   <td>    3.375</td>   <td>0.000</td>   <td>    1.000</td>    <td>[ -6.616,  6.616]</td>  \n",
       "</tr>\n",
       "<tr>\n",
       "  <th>beta[3]</th>  <td>3.7947e-13</td> <td>    1.294</td> <td>2.932e-13</td> <td>    1.000</td>    <td>[ -2.536,  2.536]</td>  \n",
       "</tr>\n",
       "</table><br/><br/>Covariance estimator: robust"
      ],
      "text/plain": [
       "<class 'statsmodels.iolib.summary.Summary'>\n",
       "\"\"\"\n",
       "                     Constant Mean - GARCH Model Results                      \n",
       "==============================================================================\n",
       "Dep. Variable:                returns   R-squared:                       0.000\n",
       "Mean Model:             Constant Mean   Adj. R-squared:                  0.000\n",
       "Vol Model:                      GARCH   Log-Likelihood:               -6970.06\n",
       "Distribution:                  Normal   AIC:                           13952.1\n",
       "Method:            Maximum Likelihood   BIC:                           13991.2\n",
       "                                        No. Observations:                 5020\n",
       "Date:                Mon, Nov 22 2021   Df Residuals:                     5019\n",
       "Time:                        23:06:10   Df Model:                            1\n",
       "                                 Mean Model                                 \n",
       "============================================================================\n",
       "                 coef    std err          t      P>|t|      95.0% Conf. Int.\n",
       "----------------------------------------------------------------------------\n",
       "mu             0.0466  1.179e-02      3.954  7.684e-05 [2.351e-02,6.972e-02]\n",
       "                               Volatility Model                              \n",
       "=============================================================================\n",
       "                 coef    std err          t      P>|t|       95.0% Conf. Int.\n",
       "-----------------------------------------------------------------------------\n",
       "omega          0.0109  8.158e-03      1.340      0.180 [-5.055e-03,2.693e-02]\n",
       "alpha[1]       0.0835  6.061e-02      1.377      0.168   [-3.530e-02,  0.202]\n",
       "beta[1]        0.9089      2.148      0.423      0.672      [ -3.302,  5.120]\n",
       "beta[2]        0.0000      3.375      0.000      1.000      [ -6.616,  6.616]\n",
       "beta[3]    3.7947e-13      1.294  2.932e-13      1.000      [ -2.536,  2.536]\n",
       "=============================================================================\n",
       "\n",
       "Covariance estimator: robust\n",
       "\"\"\""
      ]
     },
     "execution_count": 10,
     "metadata": {},
     "output_type": "execute_result"
    }
   ],
   "source": [
    "model_garch_1_3 = arch_model(df.returns[1:], mean = \"Constant\",  vol = \"GARCH\", p = 1, q = 3)\n",
    "results_garch_1_3 = model_garch_1_3.fit(update_freq = 5)\n",
    "results_garch_1_3.summary()"
   ]
  },
  {
   "cell_type": "code",
   "execution_count": 11,
   "metadata": {},
   "outputs": [
    {
     "name": "stdout",
     "output_type": "stream",
     "text": [
      "Iteration:      5,   Func. Count:     40,   Neg. LLF: 8793.711867692436\n",
      "Iteration:     10,   Func. Count:     76,   Neg. LLF: 6967.731247505904\n",
      "Optimization terminated successfully    (Exit mode 0)\n",
      "            Current function value: 6967.731020076308\n",
      "            Iterations: 12\n",
      "            Function evaluations: 87\n",
      "            Gradient evaluations: 12\n"
     ]
    },
    {
     "data": {
      "text/html": [
       "<table class=\"simpletable\">\n",
       "<caption>Constant Mean - GARCH Model Results</caption>\n",
       "<tr>\n",
       "  <th>Dep. Variable:</th>       <td>returns</td>      <th>  R-squared:         </th>  <td>   0.000</td> \n",
       "</tr>\n",
       "<tr>\n",
       "  <th>Mean Model:</th>       <td>Constant Mean</td>   <th>  Adj. R-squared:    </th>  <td>   0.000</td> \n",
       "</tr>\n",
       "<tr>\n",
       "  <th>Vol Model:</th>            <td>GARCH</td>       <th>  Log-Likelihood:    </th> <td>  -6967.73</td>\n",
       "</tr>\n",
       "<tr>\n",
       "  <th>Distribution:</th>        <td>Normal</td>       <th>  AIC:               </th> <td>   13945.5</td>\n",
       "</tr>\n",
       "<tr>\n",
       "  <th>Method:</th>        <td>Maximum Likelihood</td> <th>  BIC:               </th> <td>   13978.1</td>\n",
       "</tr>\n",
       "<tr>\n",
       "  <th></th>                        <td></td>          <th>  No. Observations:  </th>    <td>5020</td>   \n",
       "</tr>\n",
       "<tr>\n",
       "  <th>Date:</th>           <td>Mon, Nov 22 2021</td>  <th>  Df Residuals:      </th>    <td>5019</td>   \n",
       "</tr>\n",
       "<tr>\n",
       "  <th>Time:</th>               <td>23:06:11</td>      <th>  Df Model:          </th>      <td>1</td>    \n",
       "</tr>\n",
       "</table>\n",
       "<table class=\"simpletable\">\n",
       "<caption>Mean Model</caption>\n",
       "<tr>\n",
       "   <td></td>     <th>coef</th>     <th>std err</th>      <th>t</th>       <th>P>|t|</th>     <th>95.0% Conf. Int.</th>   \n",
       "</tr>\n",
       "<tr>\n",
       "  <th>mu</th> <td>    0.0466</td> <td>1.187e-02</td> <td>    3.922</td> <td>8.780e-05</td> <td>[2.329e-02,6.982e-02]</td>\n",
       "</tr>\n",
       "</table>\n",
       "<table class=\"simpletable\">\n",
       "<caption>Volatility Model</caption>\n",
       "<tr>\n",
       "      <td></td>        <th>coef</th>     <th>std err</th>      <th>t</th>       <th>P>|t|</th>      <th>95.0% Conf. Int.</th>   \n",
       "</tr>\n",
       "<tr>\n",
       "  <th>omega</th>    <td>    0.0129</td> <td>4.097e-03</td> <td>    3.158</td> <td>1.589e-03</td>  <td>[4.908e-03,2.097e-02]</td>\n",
       "</tr>\n",
       "<tr>\n",
       "  <th>alpha[1]</th> <td>    0.0547</td> <td>1.665e-02</td> <td>    3.286</td> <td>1.017e-03</td>  <td>[2.208e-02,8.735e-02]</td>\n",
       "</tr>\n",
       "<tr>\n",
       "  <th>alpha[2]</th> <td>    0.0389</td> <td>2.345e-02</td> <td>    1.659</td> <td>9.709e-02</td> <td>[-7.056e-03,8.488e-02]</td>\n",
       "</tr>\n",
       "<tr>\n",
       "  <th>beta[1]</th>  <td>    0.8974</td> <td>1.712e-02</td> <td>   52.415</td>   <td>0.000</td>      <td>[  0.864,  0.931]</td>  \n",
       "</tr>\n",
       "</table><br/><br/>Covariance estimator: robust"
      ],
      "text/plain": [
       "<class 'statsmodels.iolib.summary.Summary'>\n",
       "\"\"\"\n",
       "                     Constant Mean - GARCH Model Results                      \n",
       "==============================================================================\n",
       "Dep. Variable:                returns   R-squared:                       0.000\n",
       "Mean Model:             Constant Mean   Adj. R-squared:                  0.000\n",
       "Vol Model:                      GARCH   Log-Likelihood:               -6967.73\n",
       "Distribution:                  Normal   AIC:                           13945.5\n",
       "Method:            Maximum Likelihood   BIC:                           13978.1\n",
       "                                        No. Observations:                 5020\n",
       "Date:                Mon, Nov 22 2021   Df Residuals:                     5019\n",
       "Time:                        23:06:11   Df Model:                            1\n",
       "                                 Mean Model                                 \n",
       "============================================================================\n",
       "                 coef    std err          t      P>|t|      95.0% Conf. Int.\n",
       "----------------------------------------------------------------------------\n",
       "mu             0.0466  1.187e-02      3.922  8.780e-05 [2.329e-02,6.982e-02]\n",
       "                               Volatility Model                              \n",
       "=============================================================================\n",
       "                 coef    std err          t      P>|t|       95.0% Conf. Int.\n",
       "-----------------------------------------------------------------------------\n",
       "omega          0.0129  4.097e-03      3.158  1.589e-03  [4.908e-03,2.097e-02]\n",
       "alpha[1]       0.0547  1.665e-02      3.286  1.017e-03  [2.208e-02,8.735e-02]\n",
       "alpha[2]       0.0389  2.345e-02      1.659  9.709e-02 [-7.056e-03,8.488e-02]\n",
       "beta[1]        0.8974  1.712e-02     52.415      0.000      [  0.864,  0.931]\n",
       "=============================================================================\n",
       "\n",
       "Covariance estimator: robust\n",
       "\"\"\""
      ]
     },
     "execution_count": 11,
     "metadata": {},
     "output_type": "execute_result"
    }
   ],
   "source": [
    "model_garch_2_1 = arch_model(df.returns[1:], mean = \"Constant\",  vol = \"GARCH\", p = 2, q = 1)\n",
    "results_garch_2_1 = model_garch_2_1.fit(update_freq = 5)\n",
    "results_garch_2_1.summary()"
   ]
  },
  {
   "cell_type": "code",
   "execution_count": 12,
   "metadata": {},
   "outputs": [
    {
     "name": "stdout",
     "output_type": "stream",
     "text": [
      "Iteration:      5,   Func. Count:     45,   Neg. LLF: 6998.999162950054\n",
      "Iteration:     10,   Func. Count:     85,   Neg. LLF: 6967.743973995421\n",
      "Iteration:     15,   Func. Count:    119,   Neg. LLF: 6967.731020053497\n",
      "Optimization terminated successfully    (Exit mode 0)\n",
      "            Current function value: 6967.731020054134\n",
      "            Iterations: 15\n",
      "            Function evaluations: 119\n",
      "            Gradient evaluations: 15\n"
     ]
    },
    {
     "data": {
      "text/html": [
       "<table class=\"simpletable\">\n",
       "<caption>Constant Mean - GARCH Model Results</caption>\n",
       "<tr>\n",
       "  <th>Dep. Variable:</th>       <td>returns</td>      <th>  R-squared:         </th>  <td>   0.000</td> \n",
       "</tr>\n",
       "<tr>\n",
       "  <th>Mean Model:</th>       <td>Constant Mean</td>   <th>  Adj. R-squared:    </th>  <td>   0.000</td> \n",
       "</tr>\n",
       "<tr>\n",
       "  <th>Vol Model:</th>            <td>GARCH</td>       <th>  Log-Likelihood:    </th> <td>  -6967.73</td>\n",
       "</tr>\n",
       "<tr>\n",
       "  <th>Distribution:</th>        <td>Normal</td>       <th>  AIC:               </th> <td>   13947.5</td>\n",
       "</tr>\n",
       "<tr>\n",
       "  <th>Method:</th>        <td>Maximum Likelihood</td> <th>  BIC:               </th> <td>   13986.6</td>\n",
       "</tr>\n",
       "<tr>\n",
       "  <th></th>                        <td></td>          <th>  No. Observations:  </th>    <td>5020</td>   \n",
       "</tr>\n",
       "<tr>\n",
       "  <th>Date:</th>           <td>Mon, Nov 22 2021</td>  <th>  Df Residuals:      </th>    <td>5019</td>   \n",
       "</tr>\n",
       "<tr>\n",
       "  <th>Time:</th>               <td>23:06:12</td>      <th>  Df Model:          </th>      <td>1</td>    \n",
       "</tr>\n",
       "</table>\n",
       "<table class=\"simpletable\">\n",
       "<caption>Mean Model</caption>\n",
       "<tr>\n",
       "   <td></td>     <th>coef</th>     <th>std err</th>      <th>t</th>       <th>P>|t|</th>     <th>95.0% Conf. Int.</th>   \n",
       "</tr>\n",
       "<tr>\n",
       "  <th>mu</th> <td>    0.0466</td> <td>1.187e-02</td> <td>    3.924</td> <td>8.721e-05</td> <td>[2.330e-02,6.982e-02]</td>\n",
       "</tr>\n",
       "</table>\n",
       "<table class=\"simpletable\">\n",
       "<caption>Volatility Model</caption>\n",
       "<tr>\n",
       "      <td></td>        <th>coef</th>     <th>std err</th>      <th>t</th>       <th>P>|t|</th>      <th>95.0% Conf. Int.</th>   \n",
       "</tr>\n",
       "<tr>\n",
       "  <th>omega</th>    <td>    0.0129</td> <td>4.816e-03</td> <td>    2.687</td> <td>7.217e-03</td>  <td>[3.500e-03,2.238e-02]</td>\n",
       "</tr>\n",
       "<tr>\n",
       "  <th>alpha[1]</th> <td>    0.0547</td> <td>1.665e-02</td> <td>    3.285</td> <td>1.019e-03</td>  <td>[2.207e-02,8.736e-02]</td>\n",
       "</tr>\n",
       "<tr>\n",
       "  <th>alpha[2]</th> <td>    0.0389</td> <td>2.505e-02</td> <td>    1.553</td> <td>    0.120</td> <td>[-1.018e-02,8.800e-02]</td>\n",
       "</tr>\n",
       "<tr>\n",
       "  <th>alpha[3]</th> <td>6.7624e-11</td> <td>2.572e-02</td> <td>2.629e-09</td> <td>    1.000</td> <td>[-5.041e-02,5.041e-02]</td>\n",
       "</tr>\n",
       "<tr>\n",
       "  <th>beta[1]</th>  <td>    0.8974</td> <td>2.245e-02</td> <td>   39.978</td>   <td>0.000</td>      <td>[  0.853,  0.941]</td>  \n",
       "</tr>\n",
       "</table><br/><br/>Covariance estimator: robust"
      ],
      "text/plain": [
       "<class 'statsmodels.iolib.summary.Summary'>\n",
       "\"\"\"\n",
       "                     Constant Mean - GARCH Model Results                      \n",
       "==============================================================================\n",
       "Dep. Variable:                returns   R-squared:                       0.000\n",
       "Mean Model:             Constant Mean   Adj. R-squared:                  0.000\n",
       "Vol Model:                      GARCH   Log-Likelihood:               -6967.73\n",
       "Distribution:                  Normal   AIC:                           13947.5\n",
       "Method:            Maximum Likelihood   BIC:                           13986.6\n",
       "                                        No. Observations:                 5020\n",
       "Date:                Mon, Nov 22 2021   Df Residuals:                     5019\n",
       "Time:                        23:06:12   Df Model:                            1\n",
       "                                 Mean Model                                 \n",
       "============================================================================\n",
       "                 coef    std err          t      P>|t|      95.0% Conf. Int.\n",
       "----------------------------------------------------------------------------\n",
       "mu             0.0466  1.187e-02      3.924  8.721e-05 [2.330e-02,6.982e-02]\n",
       "                               Volatility Model                              \n",
       "=============================================================================\n",
       "                 coef    std err          t      P>|t|       95.0% Conf. Int.\n",
       "-----------------------------------------------------------------------------\n",
       "omega          0.0129  4.816e-03      2.687  7.217e-03  [3.500e-03,2.238e-02]\n",
       "alpha[1]       0.0547  1.665e-02      3.285  1.019e-03  [2.207e-02,8.736e-02]\n",
       "alpha[2]       0.0389  2.505e-02      1.553      0.120 [-1.018e-02,8.800e-02]\n",
       "alpha[3]   6.7624e-11  2.572e-02  2.629e-09      1.000 [-5.041e-02,5.041e-02]\n",
       "beta[1]        0.8974  2.245e-02     39.978      0.000      [  0.853,  0.941]\n",
       "=============================================================================\n",
       "\n",
       "Covariance estimator: robust\n",
       "\"\"\""
      ]
     },
     "execution_count": 12,
     "metadata": {},
     "output_type": "execute_result"
    }
   ],
   "source": [
    "model_garch_3_1 = arch_model(df.returns[1:], mean = \"Constant\",  vol = \"GARCH\", p = 3, q = 1)\n",
    "results_garch_3_1 = model_garch_3_1.fit(update_freq = 5)\n",
    "results_garch_3_1.summary()"
   ]
  }
 ],
 "metadata": {
  "kernelspec": {
   "display_name": "Python 3",
   "language": "python",
   "name": "python3"
  },
  "language_info": {
   "codemirror_mode": {
    "name": "ipython",
    "version": 3
   },
   "file_extension": ".py",
   "mimetype": "text/x-python",
   "name": "python",
   "nbconvert_exporter": "python",
   "pygments_lexer": "ipython3",
   "version": "3.8.5"
  }
 },
 "nbformat": 4,
 "nbformat_minor": 2
}
